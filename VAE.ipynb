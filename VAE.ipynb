{
 "cells": [
  {
   "cell_type": "markdown",
   "id": "f4e2c83c",
   "metadata": {},
   "source": [
    "* Aladdin Persson:  Variational Autoencoder from scratch in PyTorch\n",
    "\n",
    "Link: https://www.youtube.com/watch?v=VELQT1-hILo\n",
    "\n",
    "* Implement Deep Autoencoder in PyTorch for Image Reconstruction\n",
    "\n",
    "Link: https://www.geeksforgeeks.org/implement-deep-autoencoder-in-pytorch-for-image-reconstruction/\n",
    "\n",
    "* How to Generate Images using Autoencoders\n",
    "\n",
    "Link: https://towardsdatascience.com/how-to-generate-images-using-autoencoders-acfbc6c3555e\n"
   ]
  }
 ],
 "metadata": {
  "kernelspec": {
   "display_name": "Python 3 (ipykernel)",
   "language": "python",
   "name": "python3"
  },
  "language_info": {
   "codemirror_mode": {
    "name": "ipython",
    "version": 3
   },
   "file_extension": ".py",
   "mimetype": "text/x-python",
   "name": "python",
   "nbconvert_exporter": "python",
   "pygments_lexer": "ipython3",
   "version": "3.10.12"
  }
 },
 "nbformat": 4,
 "nbformat_minor": 5
}
