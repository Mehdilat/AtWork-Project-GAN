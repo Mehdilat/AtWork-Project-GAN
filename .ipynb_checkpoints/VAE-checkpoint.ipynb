{
 "cells": [
  {
   "cell_type": "markdown",
   "id": "f4e2c83c",
   "metadata": {},
   "source": [
    "* Aladdin Persson:  Variational Autoencoder from scratch in PyTorch\n",
    "\n",
    "Link: https://www.youtube.com/watch?v=VELQT1-hILo\n",
    "\n",
    "* Implement Deep Autoencoder in PyTorch for Image Reconstruction\n",
    "\n",
    "Link: https://www.geeksforgeeks.org/implement-deep-autoencoder-in-pytorch-for-image-reconstruction/\n",
    "\n",
    "* How to Generate Images using Autoencoders\n",
    "\n",
    "Link: https://towardsdatascience.com/how-to-generate-images-using-autoencoders-acfbc6c3555e\n"
   ]
  },
  {
   "cell_type": "markdown",
   "id": "91d2e2ca",
   "metadata": {},
   "source": [
    "https://github.com/aladdinpersson/Machine-Learning-Collection/tree/master/ML/Pytorch/more_advanced/VAE\n",
    "\n",
    "\n",
    "https://medium.com/@rekalantar/variational-auto-encoder-vae-pytorch-tutorial-dce2d2fe0f5f"
   ]
  },
  {
   "cell_type": "code",
   "execution_count": 21,
   "id": "8ee189ef",
   "metadata": {},
   "outputs": [],
   "source": [
    "import torch\n",
    "from torch import nn\n",
    "from torchsummary import summary\n",
    "import torchvision.datasets as datasets\n",
    "import torchvision.transforms as transforms\n"
   ]
  },
  {
   "cell_type": "code",
   "execution_count": null,
   "id": "3a722afb",
   "metadata": {},
   "outputs": [],
   "source": []
  },
  {
   "cell_type": "code",
   "execution_count": 22,
   "id": "22b6b86e",
   "metadata": {},
   "outputs": [],
   "source": [
    "other_data_dir = 'other_data'"
   ]
  },
  {
   "cell_type": "code",
   "execution_count": null,
   "id": "1070fcc8",
   "metadata": {},
   "outputs": [],
   "source": []
  },
  {
   "cell_type": "code",
   "execution_count": 23,
   "id": "1a43c771",
   "metadata": {},
   "outputs": [],
   "source": [
    "batch_size = 32\n",
    "workers = 4\n",
    "shuffle = True\n",
    "\n",
    "dataset = datasets.MNIST(root = other_data_dir, \n",
    "                         train = True, \n",
    "                         transform = transforms.Compose([\n",
    "                             transforms.ToTensor(),\n",
    "                             transforms.Normalize((0.5,), (0.5,)), # MNIST is grayscale\n",
    "                         ]),\n",
    "                         download=True)\n",
    "\n",
    "dataloader = torch.utils.data.DataLoader(dataset, batch_size = batch_size,\n",
    "                                         shuffle = shuffle, num_workers = workers)"
   ]
  },
  {
   "cell_type": "code",
   "execution_count": null,
   "id": "32173942",
   "metadata": {},
   "outputs": [],
   "source": []
  },
  {
   "cell_type": "code",
   "execution_count": null,
   "id": "b8fec2c7",
   "metadata": {},
   "outputs": [],
   "source": []
  },
  {
   "cell_type": "code",
   "execution_count": null,
   "id": "217a813c",
   "metadata": {},
   "outputs": [],
   "source": []
  },
  {
   "cell_type": "code",
   "execution_count": 24,
   "id": "d207159c",
   "metadata": {},
   "outputs": [],
   "source": [
    "DEVICE = torch.device(\"cuda\" if torch.cuda.is_available() else \"cpu\")\n",
    "input_dim = 28*28\n",
    "h_dim=200\n",
    "z_dim=20\n",
    "\n",
    "model = VariationalAutoEncoder(input_dim, h_dim, z_dim)"
   ]
  },
  {
   "cell_type": "code",
   "execution_count": 25,
   "id": "1fc1b856",
   "metadata": {
    "scrolled": true
   },
   "outputs": [
    {
     "data": {
      "text/plain": [
       "VariationalAutoEncoder(\n",
       "  (img_2hid): Linear(in_features=784, out_features=200, bias=True)\n",
       "  (hid_2mu): Linear(in_features=200, out_features=20, bias=True)\n",
       "  (hid_2sigma): Linear(in_features=200, out_features=20, bias=True)\n",
       "  (z_2hid): Linear(in_features=20, out_features=200, bias=True)\n",
       "  (hid_2img): Linear(in_features=200, out_features=784, bias=True)\n",
       "  (relu): ReLU()\n",
       ")"
      ]
     },
     "execution_count": 25,
     "metadata": {},
     "output_type": "execute_result"
    }
   ],
   "source": [
    "model"
   ]
  },
  {
   "cell_type": "code",
   "execution_count": 26,
   "id": "1bd64be9",
   "metadata": {},
   "outputs": [
    {
     "name": "stdout",
     "output_type": "stream",
     "text": [
      "----------------------------------------------------------------\n",
      "        Layer (type)               Output Shape         Param #\n",
      "================================================================\n",
      "            Linear-1               [-1, 1, 200]         157,000\n",
      "              ReLU-2               [-1, 1, 200]               0\n",
      "            Linear-3                [-1, 1, 20]           4,020\n",
      "            Linear-4                [-1, 1, 20]           4,020\n",
      "            Linear-5               [-1, 1, 200]           4,200\n",
      "              ReLU-6               [-1, 1, 200]               0\n",
      "            Linear-7               [-1, 1, 784]         157,584\n",
      "================================================================\n",
      "Total params: 326,824\n",
      "Trainable params: 326,824\n",
      "Non-trainable params: 0\n",
      "----------------------------------------------------------------\n",
      "Input size (MB): 0.00\n",
      "Forward/backward pass size (MB): 0.01\n",
      "Params size (MB): 1.25\n",
      "Estimated Total Size (MB): 1.26\n",
      "----------------------------------------------------------------\n"
     ]
    }
   ],
   "source": [
    "summary(model, (1, 784))"
   ]
  },
  {
   "cell_type": "code",
   "execution_count": null,
   "id": "6072b4bc",
   "metadata": {},
   "outputs": [],
   "source": []
  },
  {
   "cell_type": "code",
   "execution_count": null,
   "id": "be14712b",
   "metadata": {},
   "outputs": [],
   "source": []
  },
  {
   "cell_type": "code",
   "execution_count": 15,
   "id": "93aff490",
   "metadata": {},
   "outputs": [],
   "source": [
    "n_epochs = 10\n",
    "LR_RATE = 3e-4  # Karpathy constant"
   ]
  },
  {
   "cell_type": "code",
   "execution_count": null,
   "id": "28fcacb1",
   "metadata": {},
   "outputs": [],
   "source": []
  },
  {
   "cell_type": "code",
   "execution_count": null,
   "id": "05424a01",
   "metadata": {},
   "outputs": [],
   "source": []
  },
  {
   "cell_type": "code",
   "execution_count": null,
   "id": "d61d9c5b",
   "metadata": {},
   "outputs": [],
   "source": []
  },
  {
   "cell_type": "code",
   "execution_count": 1,
   "id": "d52381f7",
   "metadata": {},
   "outputs": [],
   "source": [
    "import torch\n",
    "from torch import nn\n",
    "\n",
    "\n",
    "class VariationalAutoEncoder(nn.Module):\n",
    "    def __init__(self, input_dim, h_dim=200, z_dim=20):\n",
    "        super().__init__()\n",
    "        # encoder\n",
    "        self.img_2hid = nn.Linear(input_dim, h_dim)\n",
    "        self.hid_2mu = nn.Linear(h_dim, z_dim)\n",
    "        self.hid_2sigma = nn.Linear(h_dim, z_dim)\n",
    "\n",
    "        # decoder\n",
    "        self.z_2hid = nn.Linear(z_dim, h_dim)\n",
    "        self.hid_2img = nn.Linear(h_dim, input_dim)\n",
    "\n",
    "        self.relu = nn.ReLU()\n",
    "\n",
    "    def encode(self, x):\n",
    "        h = self.relu(self.img_2hid(x))\n",
    "        mu, sigma = self.hid_2mu(h), self.hid_2sigma(h)\n",
    "        return mu, sigma\n",
    "\n",
    "    def decode(self, z):\n",
    "        h = self.relu(self.z_2hid(z))\n",
    "        return torch.sigmoid(self.hid_2img(h))\n",
    "\n",
    "    def forward(self, x):\n",
    "        mu, sigma = self.encode(x)\n",
    "        epsilon = torch.randn_like(sigma)\n",
    "        z_new = mu + sigma*epsilon\n",
    "        x_reconstructed = self.decode(z_new)\n",
    "        return x_reconstructed, mu, sigma"
   ]
  }
 ],
 "metadata": {
  "kernelspec": {
   "display_name": "Python 3 (ipykernel)",
   "language": "python",
   "name": "python3"
  },
  "language_info": {
   "codemirror_mode": {
    "name": "ipython",
    "version": 3
   },
   "file_extension": ".py",
   "mimetype": "text/x-python",
   "name": "python",
   "nbconvert_exporter": "python",
   "pygments_lexer": "ipython3",
   "version": "3.11.0"
  }
 },
 "nbformat": 4,
 "nbformat_minor": 5
}
